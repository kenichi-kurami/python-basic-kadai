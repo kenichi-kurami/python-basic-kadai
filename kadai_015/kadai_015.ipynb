{
  "nbformat": 4,
  "nbformat_minor": 0,
  "metadata": {
    "colab": {
      "provenance": []
    },
    "kernelspec": {
      "name": "python3",
      "display_name": "Python 3"
    },
    "language_info": {
      "name": "python"
    }
  },
  "cells": [
    {
      "cell_type": "code",
      "execution_count": 20,
      "metadata": {
        "colab": {
          "base_uri": "https://localhost:8080/"
        },
        "id": "pZLXvv1L9hfX",
        "outputId": "88d564d7-c444-435f-a06f-014553094415"
      },
      "outputs": [
        {
          "output_type": "stream",
          "name": "stdout",
          "text": [
            "samurai\n",
            "25\n"
          ]
        }
      ],
      "source": [
        "class Human():\n",
        "  def __init__(self,name,age):\n",
        "    self.name = name\n",
        "    self.age = age\n",
        "\n",
        "  def printinfo(self):\n",
        "    print(self.name)\n",
        "    print(self.age)\n",
        "\n",
        "human = Human(\"samurai\", 25)\n",
        "\n",
        "\n",
        "\n",
        "\n",
        "human.printinfo()\n"
      ]
    }
  ]
}