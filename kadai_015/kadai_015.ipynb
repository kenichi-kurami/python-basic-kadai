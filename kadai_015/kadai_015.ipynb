{
  "nbformat": 4,
  "nbformat_minor": 0,
  "metadata": {
    "colab": {
      "provenance": []
    },
    "kernelspec": {
      "name": "python3",
      "display_name": "Python 3"
    },
    "language_info": {
      "name": "python"
    }
  },
  "cells": [
    {
      "cell_type": "code",
      "execution_count": 16,
      "metadata": {
        "colab": {
          "base_uri": "https://localhost:8080/"
        },
        "id": "pZLXvv1L9hfX",
        "outputId": "ab61b447-d428-489a-90b0-aef90be9d69d"
      },
      "outputs": [
        {
          "output_type": "stream",
          "name": "stdout",
          "text": [
            "samurai\n",
            "25\n"
          ]
        }
      ],
      "source": [
        "class Human():\n",
        "  def __init__(self):\n",
        "    self.name = \"\"\n",
        "    self.age = \"\"\n",
        "\n",
        "  def printinfo(self):\n",
        "    print(self.name)\n",
        "    print(self.age)\n",
        "\n",
        "human = Human()\n",
        "\n",
        "human.name = \"samurai\"\n",
        "human.age = 25\n",
        "\n",
        "\n",
        "\n",
        "human.printinfo()\n"
      ]
    }
  ]
}