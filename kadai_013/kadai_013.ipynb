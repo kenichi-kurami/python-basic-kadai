{
  "nbformat": 4,
  "nbformat_minor": 0,
  "metadata": {
    "colab": {
      "provenance": []
    },
    "kernelspec": {
      "name": "python3",
      "display_name": "Python 3"
    },
    "language_info": {
      "name": "python"
    }
  },
  "cells": [
    {
      "cell_type": "code",
      "execution_count": 6,
      "metadata": {
        "colab": {
          "base_uri": "https://localhost:8080/"
        },
        "id": "tugGNyfKHAMa",
        "outputId": "16a2fa04-5d67-4293-ce22-eed040513b0a"
      },
      "outputs": [
        {
          "output_type": "stream",
          "name": "stdout",
          "text": [
            "110.00000000000001\n"
          ]
        }
      ],
      "source": [
        "def total_price(price,tax):\n",
        "  price = 100 * (1+(tax / 100))\n",
        "  print(price)\n",
        "\n",
        "total_price(110,10)\n"
      ]
    }
  ]
}