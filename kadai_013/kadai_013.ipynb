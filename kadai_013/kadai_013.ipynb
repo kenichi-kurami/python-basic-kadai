{
  "nbformat": 4,
  "nbformat_minor": 0,
  "metadata": {
    "colab": {
      "provenance": []
    },
    "kernelspec": {
      "name": "python3",
      "display_name": "Python 3"
    },
    "language_info": {
      "name": "python"
    }
  },
  "cells": [
    {
      "cell_type": "code",
      "execution_count": 11,
      "metadata": {
        "colab": {
          "base_uri": "https://localhost:8080/"
        },
        "id": "tugGNyfKHAMa",
        "outputId": "0a37f7a3-838f-4b9d-f8d9-8e840d21e3fa"
      },
      "outputs": [
        {
          "output_type": "execute_result",
          "data": {
            "text/plain": [
              "121.0"
            ]
          },
          "metadata": {},
          "execution_count": 11
        }
      ],
      "source": [
        "\n",
        "\n",
        "def add_vat(price,tax):\n",
        "  return price + (price * tax / 100)\n",
        "\n",
        "add_vat(110,10)\n"
      ]
    }
  ]
}